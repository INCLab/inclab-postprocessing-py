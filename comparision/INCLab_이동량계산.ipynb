{
 "cells": [
  {
   "cell_type": "code",
   "execution_count": 7,
   "id": "2c0bba92",
   "metadata": {},
   "outputs": [],
   "source": [
    "import pandas as pd\n",
    "import numpy as np\n",
    "import matplotlib.pyplot as plt\n",
    "import os\n",
    "\n",
    "date =\"0507\" #0611 0514 0507\n",
    "#result_name = \"Result-0709-#2_enter_10min_late-Fin.csv\"\n",
    "#result_name = \"Result-0604-#10-21120_25179-Fin.csv\"\n",
    "result_name =\"Result-\"+date+\"-Fin.csv\"\n",
    "df_result_des =\"CSUM_\"+date+\"_Des.csv\"\n",
    "df_result_raw = \"CSUM_\"+date+\".csv\""
   ]
  },
  {
   "cell_type": "code",
   "execution_count": 2,
   "id": "51569450",
   "metadata": {},
   "outputs": [],
   "source": [
    "criteria = 1.16487\n",
    "#average = 1.16487\n",
    "#Median = 0.93238\n",
    "\n",
    "df = pd.read_csv(result_name)\n",
    "# pd.options.display.max_rows = 60\n",
    "# pd.options.display.max_columns = 20\n",
    "\n",
    "df2=df[:-1].reset_index() #앞에것\n",
    "df2=df2[['1_X', '1_Y', '2_X', '2_Y', '3_X', '3_Y',\n",
    "       '4_X', '4_Y', '5_X', '5_Y', '6_X', '6_Y', '7_X', '7_Y', '8_X', '8_Y',\n",
    "       '9_X', '9_Y', '10_X', '10_Y', '11_X', '11_Y', '12_X', '12_Y', '13_X',\n",
    "       '13_Y', '14_X', '14_Y', '15_X', '15_Y', '16_X', '16_Y']]\n",
    "df1=df[1:].reset_index() # 뒤에것\n",
    "df1=df1[['1_X', '1_Y', '2_X', '2_Y', '3_X', '3_Y',\n",
    "       '4_X', '4_Y', '5_X', '5_Y', '6_X', '6_Y', '7_X', '7_Y', '8_X', '8_Y',\n",
    "       '9_X', '9_Y', '10_X', '10_Y', '11_X', '11_Y', '12_X', '12_Y', '13_X',\n",
    "       '13_Y', '14_X', '14_Y', '15_X', '15_Y', '16_X', '16_Y']]\n",
    "\n",
    "df_differ= df2-df1"
   ]
  },
  {
   "cell_type": "code",
   "execution_count": 3,
   "id": "040d11c2",
   "metadata": {},
   "outputs": [],
   "source": [
    "df1 = np.sqrt((df_differ[\"1_X\"])**2 + (df_differ[\"1_Y\"])**2)\n",
    "df2 = np.sqrt((df_differ[\"2_X\"])**2 + (df_differ[\"2_Y\"])**2)\n",
    "df3 = np.sqrt((df_differ[\"3_X\"])**2 + (df_differ[\"3_Y\"])**2)\n",
    "df4 = np.sqrt((df_differ[\"4_X\"])**2 + (df_differ[\"4_Y\"])**2)\n",
    "df5 = np.sqrt((df_differ[\"5_X\"])**2 + (df_differ[\"5_Y\"])**2)\n",
    "df6 = np.sqrt((df_differ[\"6_X\"])**2 + (df_differ[\"6_Y\"])**2)\n",
    "df7 = np.sqrt((df_differ[\"7_X\"])**2 + (df_differ[\"7_Y\"])**2)\n",
    "df8 = np.sqrt((df_differ[\"8_X\"])**2 + (df_differ[\"8_Y\"])**2)\n",
    "df9 = np.sqrt((df_differ[\"9_X\"])**2 + (df_differ[\"9_Y\"])**2)\n",
    "df10 = np.sqrt((df_differ[\"10_X\"])**2 + (df_differ[\"10_Y\"])**2)\n",
    "df11 = np.sqrt((df_differ[\"11_X\"])**2 + (df_differ[\"11_Y\"])**2)\n",
    "df12 = np.sqrt((df_differ[\"12_X\"])**2 + (df_differ[\"12_Y\"])**2)\n",
    "df13 = np.sqrt((df_differ[\"13_X\"])**2 + (df_differ[\"13_Y\"])**2)\n",
    "df14 = np.sqrt((df_differ[\"14_X\"])**2 + (df_differ[\"14_Y\"])**2)\n",
    "df15 = np.sqrt((df_differ[\"15_X\"])**2 + (df_differ[\"15_Y\"])**2)\n",
    "df16 = np.sqrt((df_differ[\"16_X\"])**2 + (df_differ[\"16_Y\"])**2)\n",
    "\n",
    "d = {'e1': df1, 'e2' :df2, 'e3': df3, 'e4' :df4, 'e5': df5, 'e6' :df6, 'e7': df7, 'e8' :df8, 'e9': df9, 'e10' :df10,\n",
    "    'e11': df11, 'e12' :df12, 'e13': df13, 'e14' :df14, 'e15': df15, 'e16' :df16}\n",
    "df_result= pd.DataFrame(d)"
   ]
  },
  {
   "cell_type": "code",
   "execution_count": 4,
   "id": "19b59345",
   "metadata": {},
   "outputs": [],
   "source": [
    "for i in df_result.columns:\n",
    "    for index in range(df10.size):\n",
    "        if (df_result[i][index]<=criteria):\n",
    "            df_result[i][index]=0\n",
    "df_result.to_csv(df_result_raw)\n",
    "df_result_describe=df_result.describe()\n",
    "df_result_describe.to_csv(df_result_des)"
   ]
  },
  {
   "cell_type": "code",
   "execution_count": 5,
   "id": "cc1cbf29",
   "metadata": {},
   "outputs": [
    {
     "data": {
      "text/plain": [
       "e1     308252.086445\n",
       "e2     150884.077083\n",
       "e3     147652.224120\n",
       "e4      28536.919724\n",
       "e5     121891.296136\n",
       "e6     458599.683274\n",
       "e7     511129.460151\n",
       "e8     292209.561565\n",
       "e9     204499.542758\n",
       "e10    146419.052201\n",
       "e11    114452.477002\n",
       "e12     95388.662915\n",
       "e13    117879.933330\n",
       "e14    115833.824909\n",
       "e15         0.000000\n",
       "e16         0.000000\n",
       "dtype: float64"
      ]
     },
     "execution_count": 5,
     "metadata": {},
     "output_type": "execute_result"
    }
   ],
   "source": [
    "sum0517 =df_result.sum()"
   ]
  },
  {
   "cell_type": "code",
   "execution_count": 6,
   "id": "48c4f43e",
   "metadata": {},
   "outputs": [],
   "source": [
    "# from sklearn.preprocessing import StandardScaler\n",
    "# std_scaler = StandardScaler()\n",
    "\n",
    "# output = std_scaler.transform(df_result)\n",
    "# output = pd.DataFrame(df_result, columns=df.columns, index=list(df_result.index.values))\n",
    "# print(output.head())\n",
    "    \n",
    "#data.hist(bins=50, figsize=(20, 15))    "
   ]
  },
  {
   "cell_type": "code",
   "execution_count": 19,
   "id": "26255ff8",
   "metadata": {},
   "outputs": [],
   "source": [
    "\n",
    "e0813 =pd.read_csv(\"CSUM_0813.csv\").sum()\n",
    "e0807 =pd.read_csv(\"CSUM_0807.csv\").sum()\n",
    "e0709 =pd.read_csv(\"CSUM_0709.csv\").sum()\n",
    "e0702 =pd.read_csv(\"CSUM_0702.csv\").sum()\n",
    "e0611 =pd.read_csv(\"CSUM_0611.csv\").sum()\n",
    "e0604 =pd.read_csv(\"CSUM_0604.csv\").sum()\n",
    "e0514 =pd.read_csv(\"CSUM_0514.csv\").sum()\n",
    "e0507 =pd.read_csv(\"CSUM_0507.csv\").sum()\n",
    "\n",
    "df_sum = pd.DataFrame([e0813, e0807, e0709, e0702, e0611, e0604, e0514, e0507], \n",
    "                      index=[\"08/13\", \"08/07\", \"07/09\", \"07/02\", \"06/11\", \"06/04\", \"05/14\", \"05/07\"])"
   ]
  },
  {
   "cell_type": "code",
   "execution_count": 21,
   "id": "242cbb65",
   "metadata": {},
   "outputs": [],
   "source": [
    "df_sum.drop(columns=\"Unnamed: 0\").to_csv(\"CSUM_TOTAL.csv\")"
   ]
  },
  {
   "cell_type": "code",
   "execution_count": null,
   "id": "385d8c4a",
   "metadata": {},
   "outputs": [],
   "source": []
  }
 ],
 "metadata": {
  "kernelspec": {
   "display_name": "Python 3 (ipykernel)",
   "language": "python",
   "name": "python3"
  },
  "language_info": {
   "codemirror_mode": {
    "name": "ipython",
    "version": 3
   },
   "file_extension": ".py",
   "mimetype": "text/x-python",
   "name": "python",
   "nbconvert_exporter": "python",
   "pygments_lexer": "ipython3",
   "version": "3.9.7"
  }
 },
 "nbformat": 4,
 "nbformat_minor": 5
}
