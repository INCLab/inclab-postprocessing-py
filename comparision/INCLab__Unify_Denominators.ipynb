{
 "cells": [
  {
   "cell_type": "markdown",
   "id": "91e2a676",
   "metadata": {},
   "source": [
    "# Uniform comparison of denominators\n",
    "* Comparison of accuracy by section using subvideo\n",
    "1. Search for a framenum whose value of subvideo is not null\n",
    "2. Exploring the framenum in the cropped interpolate_df\n",
    "3. Compare two values : norm2 normalization\n",
    "4. Cumulative sum by ID\n",
    "5. Representation by graph"
   ]
  },
  {
   "cell_type": "code",
   "execution_count": null,
   "id": "a086f336",
   "metadata": {},
   "outputs": [],
   "source": [
    "import pandas as pd\n",
    "import numpy as np\n",
    "import matplotlib.pyplot as plt\n",
    "\n",
    "#only for test!\n",
    "origin_set =\"220514_Final_Result.csv\"\n",
    "subcam_set=\"5-14_offtime_test.csv\" #this csv file's frame _num  is started at 6000 to 12000\n",
    "interpolate_set =\"Result-0514-Fin.csv\""
   ]
  },
  {
   "cell_type": "code",
   "execution_count": null,
   "id": "b8bac1d1",
   "metadata": {},
   "outputs": [],
   "source": [
    "df_origin = pd.read_csv(origin_set, low_memory=False)\n",
    "df_interpolate = pd.read_csv(interpolate_set)\n",
    "df_subcam = pd.read_csv(subcam_set)\n",
    "df_subcam.frameNum+=6000 # Add offset value to start with 6000 series"
   ]
  },
  {
   "cell_type": "code",
   "execution_count": null,
   "id": "de951ae3",
   "metadata": {},
   "outputs": [],
   "source": [
    "def remove_comma(x):\n",
    "    # Remove \",\"\" if present, leaving only the previous value\n",
    "    if str(x).find(\",\") != -1:\n",
    "        return int(str(x).split(\",\")[0])\n",
    "    return x\n",
    "\n",
    "for i in df_origin.columns:\n",
    "    df_origin[i] = df_origin[i].apply(remove_comma)\n",
    "\n",
    "for i in df_subcam.columns:\n",
    "    df_subcam[i] = df_subcam[i].apply(remove_comma)"
   ]
  },
  {
   "cell_type": "code",
   "execution_count": null,
   "id": "92a9b4ae",
   "metadata": {},
   "outputs": [],
   "source": [
    "#unify framenum size \n",
    "\n",
    "df_crop = df_origin[6000:11999][:].copy()\n",
    "df_crop"
   ]
  },
  {
   "cell_type": "code",
   "execution_count": null,
   "id": "53ecd5af",
   "metadata": {},
   "outputs": [],
   "source": [
    "df_crop=df_crop.reset_index()\n",
    "df_crop=df_crop.drop(\"index\", axis=1)\n",
    "df_crop #Before putting the subcam in the blank, the pre-processing is completed and the frame is adjusted"
   ]
  },
  {
   "cell_type": "code",
   "execution_count": null,
   "id": "b92eff9e",
   "metadata": {},
   "outputs": [],
   "source": [
    "for i in df_crop.columns:\n",
    "    for idx in range(5999):\n",
    "        if(pd.isna(df_crop[i][idx])==True):\n",
    "            df_crop[i][idx]=df_subcam[i][idx]\n",
    "        else :\n",
    "            df_crop[i][idx] = np.nan\n",
    "            \n",
    "df_crop # If the value of subcam exists in the blank of origin, fill it with the value of subcam"
   ]
  },
  {
   "cell_type": "code",
   "execution_count": null,
   "id": "db12ac58",
   "metadata": {},
   "outputs": [],
   "source": [
    "df_crop= df_crop.astype(\"float64\")\n",
    "df_crop_des=df_crop.describe()\n",
    "df_crop_count_num =df_crop_des.iloc[0] # Strength of the number of values present for each column"
   ]
  },
  {
   "cell_type": "code",
   "execution_count": null,
   "id": "aa5056d6",
   "metadata": {},
   "outputs": [],
   "source": [
    "df_crop_des"
   ]
  },
  {
   "cell_type": "code",
   "execution_count": null,
   "id": "f87ad21f",
   "metadata": {},
   "outputs": [],
   "source": [
    "df_inter_crop = df_interpolate[6000:11999][:].copy()\n",
    "df_inter_crop=df_inter_crop.reset_index()\n",
    "df_inter_crop=df_inter_crop.drop(\"Unnamed: 0\", axis=1)\n",
    "df_inter_crop=df_inter_crop.drop(\"index\", axis=1)\n",
    "df_inter_crop"
   ]
  },
  {
   "cell_type": "code",
   "execution_count": null,
   "id": "7d906f7a",
   "metadata": {},
   "outputs": [],
   "source": [
    "df_inter_add_null=pd.DataFrame()\n",
    "\n",
    "for i in df_inter_crop.columns:\n",
    "    for idx in range(5999):\n",
    "        if(pd.isna(df_crop[i][idx])==True):\n",
    "            df_inter_crop[i][idx] = np.nan\n",
    "        else :\n",
    "            df_inter_crop[i][idx] = df_inter_crop[i][idx]"
   ]
  },
  {
   "cell_type": "code",
   "execution_count": null,
   "id": "699f56d6",
   "metadata": {},
   "outputs": [],
   "source": [
    "df_inter_crop.describe() #Make sure that the value of subcam exists as much as the proportion in the interpolated table"
   ]
  },
  {
   "cell_type": "code",
   "execution_count": null,
   "id": "281782cd",
   "metadata": {},
   "outputs": [],
   "source": [
    "df_differ=df_inter_crop-df_crop\n",
    "df_differ"
   ]
  },
  {
   "cell_type": "code",
   "execution_count": null,
   "id": "3da1ffd2",
   "metadata": {},
   "outputs": [],
   "source": [
    "df1 = np.sqrt((df_differ[\"1_X\"])**2 + (df_differ[\"1_Y\"])**2)\n",
    "df2 = np.sqrt((df_differ[\"2_X\"])**2 + (df_differ[\"2_Y\"])**2)\n",
    "df3 = np.sqrt((df_differ[\"3_X\"])**2 + (df_differ[\"3_Y\"])**2)\n",
    "df4 = np.sqrt((df_differ[\"4_X\"])**2 + (df_differ[\"4_Y\"])**2)\n",
    "df5 = np.sqrt((df_differ[\"5_X\"])**2 + (df_differ[\"5_Y\"])**2)\n",
    "df6 = np.sqrt((df_differ[\"6_X\"])**2 + (df_differ[\"6_Y\"])**2)\n",
    "df7 = np.sqrt((df_differ[\"7_X\"])**2 + (df_differ[\"7_Y\"])**2)\n",
    "df8 = np.sqrt((df_differ[\"8_X\"])**2 + (df_differ[\"8_Y\"])**2)\n",
    "df9 = np.sqrt((df_differ[\"9_X\"])**2 + (df_differ[\"9_Y\"])**2)\n",
    "df10 = np.sqrt((df_differ[\"10_X\"])**2 + (df_differ[\"10_Y\"])**2)\n",
    "df11 = np.sqrt((df_differ[\"11_X\"])**2 + (df_differ[\"11_Y\"])**2)\n",
    "df12 = np.sqrt((df_differ[\"12_X\"])**2 + (df_differ[\"12_Y\"])**2)\n",
    "df13 = np.sqrt((df_differ[\"13_X\"])**2 + (df_differ[\"13_Y\"])**2)\n",
    "df14 = np.sqrt((df_differ[\"14_X\"])**2 + (df_differ[\"14_Y\"])**2)\n",
    "df15 = np.sqrt((df_differ[\"15_X\"])**2 + (df_differ[\"15_Y\"])**2)\n",
    "df16 = np.sqrt((df_differ[\"16_X\"])**2 + (df_differ[\"16_Y\"])**2)"
   ]
  },
  {
   "cell_type": "code",
   "execution_count": null,
   "id": "efc42b37",
   "metadata": {},
   "outputs": [],
   "source": [
    "d = {'frameNum':df_inter_crop[\"frameNum\"],'e1': df1, 'e2' :df2, 'e3': df3, 'e4' :df4, 'e5': df5, 'e6' :df6, 'e7': df7, 'e8' :df8, 'e9': df9, 'e10' :df10,\n",
    "    'e11': df11, 'e12' :df12, 'e13': df13, 'e14' :df14, 'e15': df15, 'e16' :df16}\n",
    "df= pd.DataFrame(d)"
   ]
  },
  {
   "cell_type": "code",
   "execution_count": null,
   "id": "9c50882c",
   "metadata": {},
   "outputs": [],
   "source": [
    "index = np.arange(len(df[\"e14\"]))\n",
    "bar_width =0.4\n",
    "col = df.columns.tolist()\n",
    "col=col[1:]\n",
    "i=1\n",
    "df=df.astype(\"float64\")\n",
    "\n",
    "plt.figure(figsize=(10,15))\n",
    "for idx in col:\n",
    "    plt.subplot(8,2,i)\n",
    "    plt.bar(index,df[idx], color=\"b\", align='edge', width = bar_width, label=\"subcam\")\n",
    "    plt.title(idx)\n",
    "    i+=1\n",
    "\n",
    "    \n",
    "plt.tight_layout(pad =2, h_pad=2)\n",
    "plt.show()\n"
   ]
  },
  {
   "cell_type": "code",
   "execution_count": null,
   "id": "ec4ed1f1",
   "metadata": {},
   "outputs": [],
   "source": []
  }
 ],
 "metadata": {
  "kernelspec": {
   "display_name": "Python 3.10.4 64-bit",
   "language": "python",
   "name": "python3"
  },
  "language_info": {
   "codemirror_mode": {
    "name": "ipython",
    "version": 3
   },
   "file_extension": ".py",
   "mimetype": "text/x-python",
   "name": "python",
   "nbconvert_exporter": "python",
   "pygments_lexer": "ipython3",
   "version": "3.10.4"
  },
  "vscode": {
   "interpreter": {
    "hash": "c5c2c3c852cea3612ae75d7177c7db88d742ce4c76218675a91b833287f5ecf2"
   }
  }
 },
 "nbformat": 4,
 "nbformat_minor": 5
}
